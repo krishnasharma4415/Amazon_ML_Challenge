{
 "cells": [
  {
   "cell_type": "markdown",
   "id": "1b70b34e",
   "metadata": {},
   "source": [
    "### Basic library imports"
   ]
  },
  {
   "cell_type": "code",
   "execution_count": 2,
   "id": "719d15af",
   "metadata": {},
   "outputs": [],
   "source": [
    "import os\n",
    "import pandas as pd\n",
    "import sys"
   ]
  },
  {
   "cell_type": "markdown",
   "id": "b8911e33",
   "metadata": {},
   "source": [
    "### Read Dataset"
   ]
  },
  {
   "cell_type": "code",
   "execution_count": 3,
   "id": "d3136aac",
   "metadata": {},
   "outputs": [],
   "source": [
    "DATASET_FOLDER = '../data/raw/dataset/'\n",
    "train = pd.read_csv(os.path.join(DATASET_FOLDER, 'train.csv'))\n",
    "test = pd.read_csv(os.path.join(DATASET_FOLDER, 'test.csv'))\n",
    "sample_test = pd.read_csv(os.path.join(DATASET_FOLDER, 'sample_test.csv'))\n",
    "sample_test_out = pd.read_csv(os.path.join(DATASET_FOLDER, 'sample_test_out.csv'))"
   ]
  },
  {
   "cell_type": "markdown",
   "id": "60ebd689",
   "metadata": {},
   "source": [
    "### Run Sanity check using src/sanity.py"
   ]
  },
  {
   "cell_type": "code",
   "execution_count": 4,
   "id": "81bb3988",
   "metadata": {},
   "outputs": [
    {
     "name": "stderr",
     "output_type": "stream",
     "text": [
      "C:\\Program Files\\Python312\\python.exe: can't open file 'e:\\\\AI ML DL\\\\Amazon_ML_Challenge\\\\notebooks\\\\sanity.py': [Errno 2] No such file or directory\n"
     ]
    }
   ],
   "source": [
    "!python sanity.py --test_filename ../dataset/sample_test.csv --output_filename ../dataset/sample_test_out.csv"
   ]
  },
  {
   "cell_type": "code",
   "execution_count": 5,
   "id": "5aa79459",
   "metadata": {},
   "outputs": [
    {
     "name": "stderr",
     "output_type": "stream",
     "text": [
      "C:\\Program Files\\Python312\\python.exe: can't open file 'e:\\\\AI ML DL\\\\Amazon_ML_Challenge\\\\notebooks\\\\sanity.py': [Errno 2] No such file or directory\n"
     ]
    }
   ],
   "source": [
    "!python sanity.py --test_filename ../dataset/sample_test.csv --output_filename ../dataset/sample_test_out_fail.csv"
   ]
  },
  {
   "cell_type": "markdown",
   "id": "dbe930a8",
   "metadata": {},
   "source": [
    "### Download images"
   ]
  },
  {
   "cell_type": "code",
   "execution_count": 6,
   "id": "a3d1aad8",
   "metadata": {},
   "outputs": [],
   "source": [
    "sys.path.append(os.path.abspath('../src/utils'))\n",
    "from utils import download_images"
   ]
  },
  {
   "cell_type": "code",
   "execution_count": 7,
   "id": "89aaba53",
   "metadata": {},
   "outputs": [],
   "source": [
    "# IMAGES_FOLDER = '../data/raw/images'\n",
    "# os.makedirs(IMAGES_FOLDER, exist_ok=True)\n",
    "# download_images(sample_test['image_link'], IMAGES_FOLDER)"
   ]
  },
  {
   "cell_type": "code",
   "execution_count": 8,
   "id": "354b01a2",
   "metadata": {},
   "outputs": [
    {
     "name": "stderr",
     "output_type": "stream",
     "text": [
      "100%|██████████| 263859/263859 [10:08<00:00, 433.72it/s] \n"
     ]
    }
   ],
   "source": [
    "IMAGES_FOLDER = '../data/raw/images/train'\n",
    "os.makedirs(IMAGES_FOLDER, exist_ok=True)\n",
    "download_images(train['image_link'], IMAGES_FOLDER)"
   ]
  },
  {
   "cell_type": "code",
   "execution_count": 9,
   "id": "3db5464e",
   "metadata": {},
   "outputs": [
    {
     "name": "stderr",
     "output_type": "stream",
     "text": [
      "100%|██████████| 131187/131187 [09:24<00:00, 232.34it/s] \n"
     ]
    }
   ],
   "source": [
    "IMAGES_FOLDER = '../data/raw/images/test'\n",
    "os.makedirs(IMAGES_FOLDER, exist_ok=True)\n",
    "download_images(test['image_link'], IMAGES_FOLDER)"
   ]
  },
  {
   "cell_type": "code",
   "execution_count": 10,
   "id": "ce5c6fe1",
   "metadata": {},
   "outputs": [],
   "source": [
    "assert len(os.listdir(IMAGES_FOLDER)) > 0"
   ]
  }
 ],
 "metadata": {
  "kernelspec": {
   "display_name": ".venv",
   "language": "python",
   "name": "python3"
  },
  "language_info": {
   "codemirror_mode": {
    "name": "ipython",
    "version": 3
   },
   "file_extension": ".py",
   "mimetype": "text/x-python",
   "name": "python",
   "nbconvert_exporter": "python",
   "pygments_lexer": "ipython3",
   "version": "3.12.4"
  }
 },
 "nbformat": 4,
 "nbformat_minor": 5
}
