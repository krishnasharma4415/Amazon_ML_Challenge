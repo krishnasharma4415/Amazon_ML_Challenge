{
 "cells": [
  {
   "cell_type": "code",
   "execution_count": 7,
   "metadata": {},
   "outputs": [],
   "source": [
    "import pandas as pd\n",
    "import re\n",
    "import os\n",
    "from tqdm import tqdm\n",
    "import sys\n",
    "root_path = os.path.abspath(os.path.join(os.getcwd(), '..', '..'))\n",
    "sys.path.append(root_path)\n",
    "from src.utils import constants\n",
    "import spacy\n",
    "from typing import Dict, Set, Tuple, Optional, List, Any"
   ]
  },
  {
   "cell_type": "code",
   "execution_count": 22,
   "metadata": {},
   "outputs": [],
   "source": [
    "DATASET_FOLDER = 'E:/AI ML DL/Amazon_ML_Challenge/data/raw/dataset/'\n",
    "TRAIN_PATH = os.path.join(DATASET_FOLDER, 'train.csv')\n",
    "TEST_PATH = os.path.join(DATASET_FOLDER, 'test.csv')\n",
    "SAMPLE_TEST_PATH = os.path.join(DATASET_FOLDER, 'sample_test.csv')\n",
    "SAMPLE_TEST_OUT_PATH = os.path.join(DATASET_FOLDER, 'sample_test_out.csv')"
   ]
  },
  {
   "cell_type": "code",
   "execution_count": 23,
   "metadata": {},
   "outputs": [],
   "source": [
    "train = pd.read_csv(TRAIN_PATH)\n",
    "test = pd.read_csv(TEST_PATH)\n",
    "sample_test = pd.read_csv(SAMPLE_TEST_PATH)\n",
    "sample_test_out = pd.read_csv(SAMPLE_TEST_OUT_PATH)"
   ]
  },
  {
   "cell_type": "code",
   "execution_count": null,
   "metadata": {},
   "outputs": [],
   "source": [
    "sample_test.entity_name.head(), sample_test_out.prediction.head()"
   ]
  },
  {
   "cell_type": "code",
   "execution_count": 19,
   "metadata": {},
   "outputs": [],
   "source": [
    "import cv2\n",
    "import csv\n",
    "from paddleocr import PaddleOCR"
   ]
  },
  {
   "cell_type": "code",
   "execution_count": null,
   "metadata": {},
   "outputs": [],
   "source": [
    "ocr = PaddleOCR(use_angle_cls=True, lang='en')"
   ]
  },
  {
   "cell_type": "code",
   "execution_count": 30,
   "metadata": {},
   "outputs": [],
   "source": [
    "OUTPUT_CSV = os.path.join(DATASET_FOLDER, 'ocr_results_test.csv')"
   ]
  },
  {
   "cell_type": "code",
   "execution_count": null,
   "metadata": {},
   "outputs": [],
   "source": [
    "with open(OUTPUT_CSV, mode='a', newline='', encoding='utf-8') as file:\n",
    "    writer = csv.writer(file)\n",
    "    writer.writerow([\"image_link\", \"extracted_text\"])  # Header row\n",
    "\n",
    "    IMAGES_TEST_DIR = 'E:/AI ML DL/Amazon_ML_Challenge/data/raw/images/train'\n",
    "    # Loop through each image in the directory\n",
    "    for image_name in os.listdir(IMAGES_TEST_DIR):\n",
    "        if image_name.endswith(('.jpg', '.jpeg', '.png', '.bmp', '.tiff')):  # Filter for image files\n",
    "            image_path = os.path.join(IMAGES_TEST_DIR, image_name)\n",
    "\n",
    "            # Read the image\n",
    "            img = cv2.imread(image_path, cv2.IMREAD_UNCHANGED)\n",
    "\n",
    "            # Perform OCR on the image\n",
    "            try:\n",
    "                res = ocr.ocr(img, cls=True)\n",
    "                if res[0] is None:\n",
    "                    writer.writerow([image_path, None])\n",
    "                    continue\n",
    "\n",
    "                # Extract all text from the image\n",
    "                extracted_text = \"\"\n",
    "                for line in res:\n",
    "                    for word_info in line:\n",
    "                        extracted_text += word_info[-1][0] + \" \"  # Concatenate all the words\n",
    "\n",
    "                # Write the image path and extracted text to the CSV file\n",
    "                writer.writerow([image_path, extracted_text.strip()])\n",
    "            except Exception as e:\n",
    "                print(f\"Error processing {image_path}: {e}\")\n",
    "                continue\n",
    "            "
   ]
  },
  {
   "cell_type": "code",
   "execution_count": null,
   "metadata": {},
   "outputs": [],
   "source": [
    "df = pd.read_csv(TEST_PATH)\n",
    "ou = pd.read_csv(OUTPUT_CSV)\n",
    "\n",
    "# Preprocessing and mapping the extracted data to the dataframe\n",
    "df['image_link'] = df['image_link'].apply(lambda x: x.split('/')[-1])\n",
    "df.drop(columns=['group_id'], inplace=True)\n",
    "\n",
    "ou['image_link'] = ou['image_link'].apply(lambda x: x.split('/')[-1])\n",
    "ou['image_link'] = ou['image_link'].apply(lambda x: x.split('\\\\')[-1])\n",
    "\n",
    "# Merge the test dataframe and OCR results based on image links\n",
    "ou = ou.merge(df, on=['image_link'], how='right')\n",
    "ou.drop(columns=['image_link'], inplace=True)"
   ]
  },
  {
   "cell_type": "code",
   "execution_count": null,
   "metadata": {},
   "outputs": [],
   "source": []
  }
 ],
 "metadata": {
  "kernelspec": {
   "display_name": ".venv",
   "language": "python",
   "name": "python3"
  },
  "language_info": {
   "codemirror_mode": {
    "name": "ipython",
    "version": 3
   },
   "file_extension": ".py",
   "mimetype": "text/x-python",
   "name": "python",
   "nbconvert_exporter": "python",
   "pygments_lexer": "ipython3",
   "version": "3.12.4"
  }
 },
 "nbformat": 4,
 "nbformat_minor": 2
}
