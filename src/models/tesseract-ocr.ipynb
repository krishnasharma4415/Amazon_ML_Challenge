{
 "cells": [
  {
   "cell_type": "code",
   "execution_count": 39,
   "metadata": {},
   "outputs": [],
   "source": [
    "import os\n",
    "import pytesseract\n",
    "from pytesseract import Output\n",
    "from PIL import Image\n",
    "import cv2\n",
    "import pandas as pd\n",
    "from matplotlib import pyplot as plt"
   ]
  },
  {
   "cell_type": "code",
   "execution_count": 40,
   "metadata": {},
   "outputs": [],
   "source": [
    "pytesseract.pytesseract.tesseract_cmd = r'C:\\Program Files\\Tesseract-OCR\\tesseract.exe'\n",
    "os.environ[\"TESSDATA_PREFIX\"] = r'C:\\Program Files\\Tesseract-OCR\\tessdata'\n",
    "train_images_dir = r'E:\\AI ML DL\\Amazon_ML_Challenge\\data\\raw\\images\\train'\n",
    "test_images_dir = r'E:\\AI ML DL\\Amazon_ML_Challenge\\data\\raw\\images\\test'"
   ]
  },
  {
   "cell_type": "code",
   "execution_count": 41,
   "metadata": {},
   "outputs": [],
   "source": [
    "def load_and_preprocess_image(image_path, target_size=(224, 224)):\n",
    "    image = cv2.imread(image_path)\n",
    "    if image is None:\n",
    "        raise FileNotFoundError(f\"Image not found: {image_path}\")\n",
    "    resized_image = cv2.resize(image, target_size)\n",
    "    return resized_image"
   ]
  },
  {
   "cell_type": "code",
   "execution_count": 42,
   "metadata": {},
   "outputs": [],
   "source": [
    "def extract_text_from_image(image_path):\n",
    "    try:\n",
    "        # Load and preprocess the image\n",
    "        image = load_and_preprocess_image(image_path)\n",
    "        \n",
    "        # Use Tesseract to detect language and extract text\n",
    "        ocr_result = pytesseract.image_to_string(image)\n",
    "        detected_languages = pytesseract.image_to_osd(image, output_type=Output.DICT).get('language', 'unknown')\n",
    "        \n",
    "        print(f\"Detected languages: {detected_languages}\")\n",
    "        if ocr_result.strip():\n",
    "            print(f\"Text extracted from {os.path.basename(image_path)}:\\n{ocr_result}\\n\")\n",
    "        else:\n",
    "            print(f\"No text found in {os.path.basename(image_path)}\")\n",
    "        \n",
    "        return detected_languages, ocr_result.strip()\n",
    "\n",
    "    except Exception as e:\n",
    "        print(f\"Error processing {image_path}: {e}\")\n",
    "        return None, None"
   ]
  },
  {
   "cell_type": "code",
   "execution_count": 43,
   "metadata": {},
   "outputs": [],
   "source": [
    "def process_image_with_error_handling(image_path):\n",
    "    try:\n",
    "        detected_languages, ocr_text = extract_text_from_image(image_path)\n",
    "        if not ocr_text:\n",
    "            raise ValueError(\"No text extracted.\")\n",
    "        return detected_languages, ocr_text\n",
    "\n",
    "    except Exception as e:\n",
    "        print(f\"Error: {e} - Check if the necessary language files are installed.\")\n",
    "        return None, None"
   ]
  },
  {
   "cell_type": "code",
   "execution_count": 44,
   "metadata": {},
   "outputs": [],
   "source": [
    "def process_all_images(image_dir):\n",
    "    results = []\n",
    "    for image_file in os.listdir(image_dir):\n",
    "        image_path = os.path.join(image_dir, image_file)\n",
    "        \n",
    "        if image_file.endswith('.jpg') or image_file.endswith('.png'):\n",
    "            print(f\"Processing image: {image_file}\")\n",
    "            languages, text = process_image_with_error_handling(image_path)\n",
    "            \n",
    "            if text:\n",
    "                results.append({\n",
    "                    'image_file': image_file,\n",
    "                    'languages': languages,\n",
    "                    'extracted_text': text\n",
    "                })\n",
    "\n",
    "    return pd.DataFrame(results)"
   ]
  },
  {
   "cell_type": "code",
   "execution_count": 45,
   "metadata": {},
   "outputs": [],
   "source": [
    "def save_results_to_csv(results_df, output_path):\n",
    "    results_df.to_csv(output_path, index=False)\n",
    "    print(f\"Results saved to {output_path}\")"
   ]
  },
  {
   "cell_type": "code",
   "execution_count": null,
   "metadata": {},
   "outputs": [],
   "source": [
    "# Main execution\n",
    "if __name__ == \"__main__\":\n",
    "    # Process all images in the train folder\n",
    "    print(\"Starting OCR processing for train images...\")\n",
    "    train_results = process_all_images(train_images_dir)\n",
    "\n",
    "    # Save the results to a CSV file\n",
    "    output_csv_path = r'E:\\AI ML DL\\Amazon_ML_Challenge\\results\\train_ocr_results.csv'\n",
    "    save_results_to_csv(train_results, output_csv_path)\n",
    "\n",
    "    print(\"OCR processing completed.\")"
   ]
  },
  {
   "cell_type": "code",
   "execution_count": null,
   "metadata": {},
   "outputs": [],
   "source": [
    "def display_image_with_text(image_path, text):\n",
    "    image = load_and_preprocess_image(image_path)\n",
    "    plt.imshow(cv2.cvtColor(image, cv2.COLOR_BGR2RGB))\n",
    "    plt.title(f\"Extracted Text: {text[:50]}...\")\n",
    "    plt.axis('off')\n",
    "    plt.show()\n",
    "\n",
    "# Example visualization for the first processed image\n",
    "if not train_results.empty:\n",
    "    first_image_path = os.path.join(train_images_dir, train_results.iloc[0]['image_file'])\n",
    "    display_image_with_text(first_image_path, train_results.iloc[0]['extracted_text'])"
   ]
  }
 ],
 "metadata": {
  "kernelspec": {
   "display_name": ".venv",
   "language": "python",
   "name": "python3"
  },
  "language_info": {
   "codemirror_mode": {
    "name": "ipython",
    "version": 3
   },
   "file_extension": ".py",
   "mimetype": "text/x-python",
   "name": "python",
   "nbconvert_exporter": "python",
   "pygments_lexer": "ipython3",
   "version": "3.12.4"
  }
 },
 "nbformat": 4,
 "nbformat_minor": 2
}
