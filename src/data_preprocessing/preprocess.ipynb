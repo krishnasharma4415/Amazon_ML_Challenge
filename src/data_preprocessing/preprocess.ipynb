{
 "cells": [
  {
   "cell_type": "code",
   "execution_count": 1,
   "metadata": {},
   "outputs": [],
   "source": [
    "import os\n",
    "from PIL import Image, UnidentifiedImageError\n",
    "import torch\n",
    "import torchvision.transforms as transforms\n",
    "from tqdm import tqdm"
   ]
  },
  {
   "cell_type": "code",
   "execution_count": 2,
   "metadata": {},
   "outputs": [],
   "source": [
    "IMAGES_FOLDER = 'E:/AI ML DL/Amazon_ML_Challenge/data/raw/images/'\n",
    "PROCESSED_FOLDER = 'E:/AI ML DL/Amazon_ML_Challenge/data/processed/images/'\n",
    "os.makedirs(PROCESSED_FOLDER, exist_ok=True)"
   ]
  },
  {
   "cell_type": "code",
   "execution_count": 3,
   "metadata": {},
   "outputs": [],
   "source": [
    "def preprocess_image(image_path, output_path, size=(224, 224)):\n",
    "    with Image.open(image_path) as img:\n",
    "        img_resized = img.resize(size)\n",
    "        img_resized.save(output_path)"
   ]
  },
  {
   "cell_type": "code",
   "execution_count": 4,
   "metadata": {},
   "outputs": [],
   "source": [
    "for image_file in os.listdir(IMAGES_FOLDER):\n",
    "    input_image_path = os.path.join(IMAGES_FOLDER, image_file)\n",
    "    output_image_path = os.path.join(PROCESSED_FOLDER, image_file)\n",
    "    preprocess_image(input_image_path, output_image_path)"
   ]
  },
  {
   "cell_type": "code",
   "execution_count": null,
   "metadata": {},
   "outputs": [],
   "source": [
    "def extract_image_features(image_path):\n",
    "    with Image.open(image_path) as img:\n",
    "        img_array = np.array(img)\n",
    "        return img_array.flatten()  \n",
    "\n",
    "sample_image_path = 'E:/AI ML DL/Amazon_ML_Challenge/data/processed/images/41-NCxNuBxL.jpg'\n",
    "features = extract_image_features(sample_image_path)\n",
    "print(features[:100])"
   ]
  },
  {
   "cell_type": "code",
   "execution_count": 7,
   "metadata": {},
   "outputs": [],
   "source": [
    "import pandas as pd\n",
    "\n",
    "sample_test_out_df = pd.read_csv('E:/AI ML DL/Amazon_ML_Challenge/data/raw/dataset/sample_test_out.csv')\n",
    "sample_test_out_fail_df = pd.read_csv('E:/AI ML DL/Amazon_ML_Challenge/data/raw/dataset/sample_test_out_fail.csv')"
   ]
  },
  {
   "cell_type": "code",
   "execution_count": null,
   "metadata": {},
   "outputs": [],
   "source": [
    "sample_test_out_df.head()"
   ]
  },
  {
   "cell_type": "code",
   "execution_count": null,
   "metadata": {},
   "outputs": [],
   "source": [
    "sample_test_out_fail_df.head()"
   ]
  },
  {
   "cell_type": "code",
   "execution_count": null,
   "metadata": {},
   "outputs": [],
   "source": [
    "sample_test_out_df.info()"
   ]
  },
  {
   "cell_type": "code",
   "execution_count": null,
   "metadata": {},
   "outputs": [],
   "source": [
    "missing_predictions = sample_test_out_df[sample_test_out_df['prediction'].isnull()]\n",
    "print(missing_predictions)"
   ]
  },
  {
   "cell_type": "code",
   "execution_count": 2,
   "metadata": {},
   "outputs": [],
   "source": [
    "import os\n",
    "from PIL import Image, ImageFile, UnidentifiedImageError\n",
    "import torch\n",
    "import torchvision.transforms as transforms\n",
    "from tqdm import tqdm"
   ]
  },
  {
   "cell_type": "code",
   "execution_count": 3,
   "metadata": {},
   "outputs": [],
   "source": [
    "TRAIN_IMAGES_FOLDER = r'E:\\AI ML DL\\Amazon_ML_Challenge\\data\\raw\\images\\train'\n",
    "TEST_IMAGES_FOLDER = r'E:\\AI ML DL\\Amazon_ML_Challenge\\data\\raw\\images\\test'\n",
    "OUTPUT_TRAIN_TENSOR_FOLDER = r'E:\\AI ML DL\\Amazon_ML_Challenge\\data\\processed\\tensors\\train'\n",
    "OUTPUT_TEST_TENSOR_FOLDER = r'E:\\AI ML DL\\Amazon_ML_Challenge\\data\\processed\\tensors\\test'"
   ]
  },
  {
   "cell_type": "code",
   "execution_count": 7,
   "metadata": {},
   "outputs": [],
   "source": [
    "ImageFile.LOAD_TRUNCATED_IMAGES = True\n",
    "\n",
    "transform = transforms.Compose([\n",
    "    transforms.Resize((224, 224)), \n",
    "    transforms.ToTensor()\n",
    "])"
   ]
  },
  {
   "cell_type": "code",
   "execution_count": 8,
   "metadata": {},
   "outputs": [],
   "source": [
    "def save_batch_tensors_to_disk(batch_tensors, output_folder, batch_idx):\n",
    "    \"\"\"Saves each tensor in the batch to a file.\"\"\"\n",
    "    for idx, tensor in enumerate(batch_tensors):\n",
    "        tensor_path = os.path.join(output_folder, f'tensor_batch_{batch_idx}_img_{idx}.pt')\n",
    "        torch.save(tensor, tensor_path)\n",
    "        print(f\"Saved {tensor_path}\")"
   ]
  },
  {
   "cell_type": "code",
   "execution_count": 9,
   "metadata": {},
   "outputs": [],
   "source": [
    "def convert_and_save_images_to_tensors(images_folder, output_folder, batch_size=32):\n",
    "    os.makedirs(output_folder, exist_ok=True)  # Ensure the output folder exists\n",
    "    image_files = os.listdir(images_folder)\n",
    "    \n",
    "    for i in range(0, len(image_files), batch_size):\n",
    "        batch_files = image_files[i:i + batch_size]\n",
    "        batch_tensors = []\n",
    "\n",
    "        for image_file in tqdm(batch_files, desc=f\"Converting batch {i // batch_size + 1}\"):\n",
    "            image_path = os.path.join(images_folder, image_file)\n",
    "            tensor_image = image_to_tensor(image_path)\n",
    "            if tensor_image is not None:\n",
    "                batch_tensors.append(tensor_image)\n",
    "\n",
    "        if batch_tensors:\n",
    "            batch_tensors = torch.stack(batch_tensors)\n",
    "            save_batch_tensors_to_disk(batch_tensors, output_folder, i // batch_size)"
   ]
  },
  {
   "cell_type": "code",
   "execution_count": null,
   "metadata": {},
   "outputs": [],
   "source": [
    "convert_and_save_images_to_tensors(TRAIN_IMAGES_FOLDER, OUTPUT_TRAIN_TENSOR_FOLDER, batch_size=32)\n",
    "print(\"Finished processing train images.\")"
   ]
  },
  {
   "cell_type": "code",
   "execution_count": null,
   "metadata": {},
   "outputs": [],
   "source": [
    "convert_and_save_images_to_tensors(TEST_IMAGES_FOLDER, OUTPUT_TEST_TENSOR_FOLDER, batch_size=32)\n",
    "print(\"Finished processing test images.\")"
   ]
  }
 ],
 "metadata": {
  "kernelspec": {
   "display_name": ".venv",
   "language": "python",
   "name": "python3"
  },
  "language_info": {
   "codemirror_mode": {
    "name": "ipython",
    "version": 3
   },
   "file_extension": ".py",
   "mimetype": "text/x-python",
   "name": "python",
   "nbconvert_exporter": "python",
   "pygments_lexer": "ipython3",
   "version": "3.12.4"
  }
 },
 "nbformat": 4,
 "nbformat_minor": 2
}
